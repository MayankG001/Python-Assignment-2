{
 "cells": [
  {
   "cell_type": "markdown",
   "id": "4cf18b97-9fb0-4a5e-a1aa-4d520713579a",
   "metadata": {},
   "source": [
    "# ASSIGNMENT SOLUTION:"
   ]
  },
  {
   "cell_type": "markdown",
   "id": "46bfe641-dd95-4ed4-a7b7-2f772675f23b",
   "metadata": {},
   "source": [
    "1. Write a program to accept percentage from the user and display the grade according to the following:\n",
    "\n",
    "\n",
    "|Marks|Grade|\n",
    "|-|-|\n",
    "|>90|A|\n",
    "|>80 & <=90|B|\n",
    "|>=60 & <=80|C|\n",
    "|Below 60|D|"
   ]
  },
  {
   "cell_type": "code",
   "execution_count": 2,
   "id": "cfafe582-3842-4cb5-81e4-f15223b84324",
   "metadata": {},
   "outputs": [
    {
     "name": "stdin",
     "output_type": "stream",
     "text": [
      "Enter marks 78\n"
     ]
    },
    {
     "name": "stdout",
     "output_type": "stream",
     "text": [
      "Grade is C\n"
     ]
    }
   ],
   "source": [
    "per=int(input(\"Enter marks\"))\n",
    "if per>90:\n",
    "    print(\"Grade is A\")\n",
    "elif per>80 and per<=90:\n",
    "    print(\"Grade is B\")\n",
    "elif per>=60 and per<=80:\n",
    "     print(\"Grade is C\")\n",
    "else:\n",
    "    per<60\n",
    "    print(\"Grade is D\")\n",
    "     "
   ]
  },
  {
   "cell_type": "markdown",
   "id": "171ec280-e178-4298-a22c-a98f8f635611",
   "metadata": {},
   "source": [
    "2. Write a program to accept the cost price of a bike and display the road tax to be paid according to the \n",
    "following criteria: \n",
    "    \n",
    "|Tax|Cost price(in rs)|\n",
    "|:-:|:-:|\n",
    "|15%|>100000|\n",
    "|10%|>50000 and <=100000|\n",
    "|5%|<=50000|"
   ]
  },
  {
   "cell_type": "code",
   "execution_count": 12,
   "id": "9fde4bd5-3e1a-4321-864a-e603e52f585a",
   "metadata": {},
   "outputs": [
    {
     "name": "stdin",
     "output_type": "stream",
     "text": [
      "Enter the price of bike  90000\n"
     ]
    },
    {
     "name": "stdout",
     "output_type": "stream",
     "text": [
      "Tax to be paid 9000.0\n"
     ]
    }
   ],
   "source": [
    "tax=0\n",
    "price=int(input(\"Enter the price of bike \"))\n",
    "if price>100000:\n",
    "    tax=15/100*price\n",
    "    print(\"Tax to be paid\",tax)\n",
    "elif price>50000 and price <=100000:\n",
    "    tax=10/100*price\n",
    "    print(\"Tax to be paid\",tax)\n",
    "else:\n",
    "    price<=50000\n",
    "    tax=5/100*price\n",
    "    print(\"Tax to be paid\",tax)\n",
    "    "
   ]
  },
  {
   "cell_type": "markdown",
   "id": "316fedec-008f-4191-89cf-7ace9bc645f7",
   "metadata": {
    "tags": []
   },
   "source": [
    "3. Accept any city from the user and display monuments of that city. \n",
    "\n",
    "\n",
    "|City|Monument|\n",
    "|:-:|:-:|\n",
    "|Delhi|Red fort|\n",
    "|Agra|Taj Mahal|\n",
    "|Jaipur|Jal Mahal|\n"
   ]
  },
  {
   "cell_type": "code",
   "execution_count": 2,
   "id": "4bed5db6-c58a-41c4-9ae7-5fbd0dbfcfc5",
   "metadata": {},
   "outputs": [
    {
     "name": "stdin",
     "output_type": "stream",
     "text": [
      "Enter the city name jaipur\n"
     ]
    },
    {
     "name": "stdout",
     "output_type": "stream",
     "text": [
      "Monument name is : Jal Mahal\n"
     ]
    }
   ],
   "source": [
    "city=input(\"Enter the city name\")\n",
    "if city==\"delhi\":\n",
    "    print(\"Monument name is : Red fort\")\n",
    "elif city==\"agra\":\n",
    "    print(\"Monument name is : Taj Mahal\")\n",
    "elif city==\"jaipur\":\n",
    "    print(\"Monument name is : Jal Mahal\")\n",
    "else:\n",
    "\n",
    "    print(\"Enter correct name of city\")"
   ]
  },
  {
   "cell_type": "markdown",
   "id": "50357cd5-29de-4244-92f5-369a3a338b63",
   "metadata": {
    "jp-MarkdownHeadingCollapsed": true,
    "tags": []
   },
   "source": [
    "4. Check how many times a given number can be divided by 3 before it is less than or equal to 10. \n"
   ]
  },
  {
   "cell_type": "code",
   "execution_count": 5,
   "id": "145bb836-1742-42eb-8714-579ccb21b86c",
   "metadata": {},
   "outputs": [
    {
     "name": "stdout",
     "output_type": "stream",
     "text": [
      "Total iteration required 3\n"
     ]
    }
   ],
   "source": [
    "# let be the number is 100\n",
    "count = 0\n",
    "number = 100\n",
    "while number > 10:\n",
    "    # divide number by 3\n",
    "    number = number / 3\n",
    "    # increase count\n",
    "    count = count + 1\n",
    "print('Total iteration required', count)"
   ]
  },
  {
   "cell_type": "code",
   "execution_count": null,
   "id": "194fc2ed-7e5a-4c0d-b951-6313c4e6e185",
   "metadata": {},
   "outputs": [],
   "source": [
    "# Another solution\n",
    "\n",
    "num = int(input(\"Enter a number: \"))\n",
    "\n",
    "count = 0\n",
    "while num > 10:\n",
    "    num = num / 3\n",
    "    count += 1\n",
    "\n",
    "print(\"The number can be divided by 3\", count, \"times before it is less than or equal to 10.\")"
   ]
  },
  {
   "cell_type": "markdown",
   "id": "3106e772-66b8-450f-bdee-d0c6de244fe5",
   "metadata": {},
   "source": [
    "5. Why and When to Use while Loop in Python give a detailed description with example \n"
   ]
  },
  {
   "cell_type": "code",
   "execution_count": null,
   "id": "6b69dced-916e-4b72-be10-2f8fea61a48d",
   "metadata": {},
   "outputs": [],
   "source": [
    "'''The while loop in Python is used when you want to repeatedly execute a block of code as long as a specific condition is true.\n",
    "The loop continues to execute until the condition becomes false.'''\n",
    "\n",
    "# Here is a simple example:\n",
    "\n",
    "count = 1\n",
    "\n",
    "while count <= 5:\n",
    "    print(count)\n",
    "    count += 1\n"
   ]
  },
  {
   "cell_type": "markdown",
   "id": "2dfabd03-bf32-4d48-ae7e-b50a65bef726",
   "metadata": {
    "tags": []
   },
   "source": [
    "6. Use nested while loop to print 3 different pattern. \n"
   ]
  },
  {
   "cell_type": "code",
   "execution_count": 3,
   "id": "f8e78dbb-ebbb-46a4-8ae3-da29dab83640",
   "metadata": {},
   "outputs": [
    {
     "name": "stdin",
     "output_type": "stream",
     "text": [
      "Enter the number of rows:  10\n"
     ]
    },
    {
     "name": "stdout",
     "output_type": "stream",
     "text": [
      "*\n",
      "**\n",
      "***\n",
      "****\n",
      "*****\n",
      "******\n",
      "*******\n",
      "********\n",
      "*********\n",
      "**********\n"
     ]
    }
   ],
   "source": [
    "# 1st pattern by nested while loop.\n",
    "# Triangle pattern\n",
    "rows = int(input(\"Enter the number of rows: \"))\n",
    "\n",
    "i = 1\n",
    "while i <= rows:\n",
    "    j = 1\n",
    "    while j <= i:\n",
    "        print(\"*\", end=\"\")\n",
    "        j += 1\n",
    "    print()\n",
    "    i += 1\n",
    "\n"
   ]
  },
  {
   "cell_type": "code",
   "execution_count": 4,
   "id": "3f82549b-d836-4736-af48-56efdf20e461",
   "metadata": {},
   "outputs": [
    {
     "name": "stdin",
     "output_type": "stream",
     "text": [
      "Enter the number of rows:  5\n"
     ]
    },
    {
     "name": "stdout",
     "output_type": "stream",
     "text": [
      "    *\n",
      "   ***\n",
      "  *****\n",
      " *******\n",
      "*********\n",
      " *******\n",
      "  *****\n",
      "   ***\n",
      "    *\n"
     ]
    }
   ],
   "source": [
    "# 2nd pattern by nested  loop.\n",
    "# Diamond pattern.\n",
    "\n",
    "rows = int(input(\"Enter the number of rows: \"))\n",
    "\n",
    "i = 1\n",
    "while i <= rows:\n",
    "    j = 1\n",
    "    while j <= rows - i:\n",
    "        print(\" \", end=\"\")\n",
    "        j += 1\n",
    "    k = 1\n",
    "    while k <= (2 * i - 1):\n",
    "        print(\"*\", end=\"\")\n",
    "        k += 1\n",
    "    print()\n",
    "    i += 1\n",
    "\n",
    "i = rows - 1\n",
    "while i >= 1:\n",
    "    j = 1\n",
    "    while j <= rows - i:\n",
    "        print(\" \", end=\"\")\n",
    "        j += 1\n",
    "    k = 1\n",
    "    while k <= (2 * i - 1):\n",
    "        print(\"*\", end=\"\")\n",
    "        k += 1\n",
    "    print()\n",
    "    i -= 1"
   ]
  },
  {
   "cell_type": "code",
   "execution_count": 5,
   "id": "4b670499-9dbb-4064-99d7-9f48b1fca039",
   "metadata": {},
   "outputs": [
    {
     "name": "stdout",
     "output_type": "stream",
     "text": [
      "    *\n",
      "   ***\n",
      "  *****\n",
      " *******\n",
      "*********\n"
     ]
    }
   ],
   "source": [
    "# 3rd pattern by nested  loop.\n",
    "# Pyramid pattern.\n",
    "\n",
    "i = 1\n",
    "while i <= rows:\n",
    "    j = 1\n",
    "    while j <= rows - i:\n",
    "        print(\" \", end=\"\")\n",
    "        j += 1\n",
    "    k = 1\n",
    "    while k <= (2 * i - 1):\n",
    "        print(\"*\", end=\"\")\n",
    "        k += 1\n",
    "    print()\n",
    "    i += 1\n"
   ]
  },
  {
   "cell_type": "markdown",
   "id": "c2a40f41-e750-42c7-b1b2-320f7b9d86b8",
   "metadata": {},
   "source": [
    "7. Reverse a while loop to display numbers from 10 to 1. \n"
   ]
  },
  {
   "cell_type": "code",
   "execution_count": null,
   "id": "c6c50c2d-492c-413f-b259-44ec4227baae",
   "metadata": {},
   "outputs": [],
   "source": [
    "num = 10\n",
    "\n",
    "while num >= 1:\n",
    "    print(num)\n",
    "    num -= 1"
   ]
  },
  {
   "cell_type": "markdown",
   "id": "4a5d9cfe-020d-4003-b5d7-be5f8866c21d",
   "metadata": {},
   "source": [
    "8. Reverse a while loop to display numbers from 10 to 1 \n"
   ]
  },
  {
   "cell_type": "code",
   "execution_count": null,
   "id": "eb6a434a-0a39-4e4f-bc3a-54771f84674e",
   "metadata": {},
   "outputs": [],
   "source": [
    "num = 10\n",
    "\n",
    "while num >= 1:\n",
    "    print(num)\n",
    "    num -= 1"
   ]
  }
 ],
 "metadata": {
  "kernelspec": {
   "display_name": "Python 3 (ipykernel)",
   "language": "python",
   "name": "python3"
  },
  "language_info": {
   "codemirror_mode": {
    "name": "ipython",
    "version": 3
   },
   "file_extension": ".py",
   "mimetype": "text/x-python",
   "name": "python",
   "nbconvert_exporter": "python",
   "pygments_lexer": "ipython3",
   "version": "3.10.8"
  }
 },
 "nbformat": 4,
 "nbformat_minor": 5
}
